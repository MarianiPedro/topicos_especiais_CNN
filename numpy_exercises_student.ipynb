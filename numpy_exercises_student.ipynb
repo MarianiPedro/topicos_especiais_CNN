{
  "cells": [
    {
      "cell_type": "markdown",
      "metadata": {
        "id": "view-in-github",
        "colab_type": "text"
      },
      "source": [
        "<a href=\"https://colab.research.google.com/github/MarianiPedro/topicos_especiais_CNN/blob/main/numpy_exercises_student.ipynb\" target=\"_parent\"><img src=\"https://colab.research.google.com/assets/colab-badge.svg\" alt=\"Open In Colab\"/></a>"
      ]
    },
    {
      "cell_type": "markdown",
      "metadata": {
        "id": "5oSIGpXLb4vC"
      },
      "source": [
        "### Exercícios NumPy"
      ]
    },
    {
      "cell_type": "code",
      "execution_count": 2,
      "metadata": {
        "id": "TCFWvUrCb4vF"
      },
      "outputs": [],
      "source": [
        "import numpy as np"
      ]
    },
    {
      "cell_type": "markdown",
      "metadata": {
        "id": "sZF_rN6eb4vF"
      },
      "source": [
        "**1.** Crie um array com 6 elementos em que os elementos possuem o padrão a seguir:\n",
        "\n",
        "```\n",
        "[0 2 4 6 8 10]\n",
        "```"
      ]
    },
    {
      "cell_type": "code",
      "execution_count": null,
      "metadata": {
        "colab": {
          "base_uri": "https://localhost:8080/"
        },
        "id": "70mO8HeHb4vG",
        "outputId": "def5181a-2bd1-42b0-f8d0-f92a8a127186"
      },
      "outputs": [
        {
          "output_type": "stream",
          "name": "stdout",
          "text": [
            "[ 0  2  4  6  8 10]\n"
          ]
        }
      ],
      "source": [
        "a = np.array(range(0,11,2))\n",
        "print(a)"
      ]
    },
    {
      "cell_type": "markdown",
      "metadata": {
        "id": "cIj94-reb4vG"
      },
      "source": [
        "**2.** Crie um array $3 \\times 4$ com o seguinte padrão:\n",
        "\n",
        "```\n",
        "[[  0   1   4   9]\n",
        " [ 16  25  36  49]\n",
        " [ 64  81 100 121]]\n",
        " ```"
      ]
    },
    {
      "cell_type": "code",
      "execution_count": null,
      "metadata": {
        "colab": {
          "base_uri": "https://localhost:8080/"
        },
        "id": "yZ3aHXk0b4vG",
        "outputId": "ad506c4c-46c8-40f9-f8a1-8e1403410edc"
      },
      "outputs": [
        {
          "output_type": "stream",
          "name": "stdout",
          "text": [
            "[[  0.   1.   4.   9.]\n",
            " [ 16.  25.  36.  49.]\n",
            " [ 64.  81. 100. 121.]]\n"
          ]
        }
      ],
      "source": [
        "a = np.empty((3, 4))\n",
        "for i in range(12):\n",
        "    a[i//4, i%4] = i**2\n",
        "print(a)"
      ]
    },
    {
      "cell_type": "markdown",
      "metadata": {
        "id": "VwVRkr6hb4vH"
      },
      "source": [
        "**3.** Crie um array $7\\times7$ no qual todos os elementos têm valor 0, exceto os da linha 3 e da coluna 3, que têm valor 1, como a seguir:\n",
        "\n",
        "```\n",
        "[[0 0 0 1 0 0 0]\n",
        " [0 0 0 1 0 0 0]\n",
        " [0 0 0 1 0 0 0]\n",
        " [1 1 1 1 1 1 1]\n",
        " [0 0 0 1 0 0 0]\n",
        " [0 0 0 1 0 0 0]\n",
        " [0 0 0 1 0 0 0]]\n",
        "```"
      ]
    },
    {
      "cell_type": "code",
      "execution_count": null,
      "metadata": {
        "colab": {
          "base_uri": "https://localhost:8080/"
        },
        "id": "suWk2YOtb4vH",
        "outputId": "9a0e837e-2027-4d12-ddc7-47dbfcf80a16"
      },
      "outputs": [
        {
          "output_type": "stream",
          "name": "stdout",
          "text": [
            "[[0. 0. 0. 1. 0. 0. 0.]\n",
            " [0. 0. 0. 1. 0. 0. 0.]\n",
            " [0. 0. 0. 1. 0. 0. 0.]\n",
            " [1. 1. 1. 1. 1. 1. 1.]\n",
            " [0. 0. 0. 1. 0. 0. 0.]\n",
            " [0. 0. 0. 1. 0. 0. 0.]\n",
            " [0. 0. 0. 1. 0. 0. 0.]]\n"
          ]
        }
      ],
      "source": [
        "a = np.zeros((7, 7))\n",
        "a[3] = 1\n",
        "a[:,3] = 1\n",
        "print(a)"
      ]
    },
    {
      "cell_type": "markdown",
      "metadata": {
        "id": "G0hnjkftb4vH"
      },
      "source": [
        "**4.** Crie um array $5 \\times 5$ com o seguinte padrão:\n",
        "\n",
        "```\n",
        "[[10  0  0  0  0]\n",
        " [ 0 10  0  0  0]\n",
        " [ 0  0 10  0  0]\n",
        " [ 0  0  0 10  0]\n",
        " [ 0  0  0  0 10]]\n",
        "```"
      ]
    },
    {
      "cell_type": "code",
      "execution_count": null,
      "metadata": {
        "colab": {
          "base_uri": "https://localhost:8080/"
        },
        "id": "-UUxmwOZb4vH",
        "outputId": "01d8d4c0-b011-4a3f-ea19-a5486f7e3702"
      },
      "outputs": [
        {
          "output_type": "stream",
          "name": "stdout",
          "text": [
            "[[10.  0.  0.  0.  0.]\n",
            " [ 0. 10.  0.  0.  0.]\n",
            " [ 0.  0. 10.  0.  0.]\n",
            " [ 0.  0.  0. 10.  0.]\n",
            " [ 0.  0.  0.  0. 10.]]\n"
          ]
        }
      ],
      "source": [
        "a = np.empty((5, 5))\n",
        "for x in range(a.shape[0]):\n",
        "    for y in range(a.shape[1]):\n",
        "      a[x,y] = 10 if x == y else 0\n",
        "print(a)"
      ]
    },
    {
      "cell_type": "markdown",
      "metadata": {
        "id": "WHz7kpp8b4vH"
      },
      "source": [
        "**5.** Crie um array $5 \\times 5$ com o seguinte padrão:\n",
        "\n",
        "```\n",
        "[[ 1  0  0  0  0]\n",
        " [ 0  4  0  0  0]\n",
        " [ 0  0  9  0  0]\n",
        " [ 0  0  0 16  0]\n",
        " [ 0  0  0  0 25]]\n",
        "```\n",
        "\n",
        "Utilize as funções `np.diag` e `np.arange`."
      ]
    },
    {
      "cell_type": "code",
      "execution_count": null,
      "metadata": {
        "colab": {
          "base_uri": "https://localhost:8080/"
        },
        "id": "NhwXxRRqb4vI",
        "outputId": "b4d4a25f-f0e7-441c-906f-e7e448331fa1"
      },
      "outputs": [
        {
          "output_type": "stream",
          "name": "stdout",
          "text": [
            "[[ 1.  0.  0.  0.  0.]\n",
            " [ 0.  4.  0.  0.  0.]\n",
            " [ 0.  0.  9.  0.  0.]\n",
            " [ 0.  0.  0. 16.  0.]\n",
            " [ 0.  0.  0.  0. 25.]]\n"
          ]
        }
      ],
      "source": [
        "a = np.empty((5, 5))\n",
        "for x in range(a.shape[0]):\n",
        "    for y in range(a.shape[1]):\n",
        "      a[x,y] = (x+1)*(y+1) if x == y else 0\n",
        "print(a)"
      ]
    },
    {
      "cell_type": "markdown",
      "metadata": {
        "id": "YP7K42Y_b4vI"
      },
      "source": [
        "**6.** Crie um array $3\\times2\\times4$ onde o elemento de índice $(i, j, k)$ tem valor $i^2$ para qualquer $j, k$, como abaixo:\n",
        "\n",
        "```\n",
        "[[[0 0 0 0]\n",
        "  [0 0 0 0]]\n",
        "\n",
        " [[1 1 1 1]\n",
        "  [1 1 1 1]]\n",
        "\n",
        " [[4 4 4 4]\n",
        "  [4 4 4 4]]]\n",
        "```\n",
        "\n",
        "Dica: utilize a função `np.indices`."
      ]
    },
    {
      "cell_type": "code",
      "execution_count": null,
      "metadata": {
        "colab": {
          "base_uri": "https://localhost:8080/"
        },
        "id": "waHora7Ib4vI",
        "outputId": "70ae7e3a-a96b-43ed-a385-b2d18d15571c"
      },
      "outputs": [
        {
          "output_type": "stream",
          "name": "stdout",
          "text": [
            "[[[0 0 0 0]\n",
            "  [0 0 0 0]]\n",
            "\n",
            " [[1 1 1 1]\n",
            "  [1 1 1 1]]\n",
            "\n",
            " [[4 4 4 4]\n",
            "  [4 4 4 4]]]\n"
          ]
        }
      ],
      "source": [
        "# a = np.empty((3, 2, 4))\n",
        "# for x in range(a.shape[0]):\n",
        "#     a[x,:] = x**2\n",
        "# print(a)\n",
        "\n",
        "a = np.empty((3, 2, 4))\n",
        "indices = np.indices(a.shape)\n",
        "a = indices[0]**2\n",
        "\n",
        "print(a)"
      ]
    },
    {
      "cell_type": "markdown",
      "metadata": {
        "id": "Lu5RyYwWb4vI"
      },
      "source": [
        "**7.** Crie um array $5\\times5$ onde o elemento de índice $(i,j)$ tem valor $i^2 + j^2$.\n",
        "\n",
        "Dica: utilize a função `np.indices`."
      ]
    },
    {
      "cell_type": "code",
      "execution_count": null,
      "metadata": {
        "colab": {
          "base_uri": "https://localhost:8080/"
        },
        "id": "ZBvp4uBPb4vI",
        "outputId": "117bd050-f0b9-41c0-8c8d-880ef6e25365"
      },
      "outputs": [
        {
          "output_type": "stream",
          "name": "stdout",
          "text": [
            "[[ 0  1  4  9 16]\n",
            " [ 1  2  5 10 17]\n",
            " [ 4  5  8 13 20]\n",
            " [ 9 10 13 18 25]\n",
            " [16 17 20 25 32]]\n"
          ]
        }
      ],
      "source": [
        "a = np.empty((5,5))\n",
        "indices = np.indices(a.shape)\n",
        "a = indices[0]**2+indices[1]**2\n",
        "\n",
        "print(a)"
      ]
    },
    {
      "cell_type": "markdown",
      "metadata": {
        "id": "XjxqMtsVb4vI"
      },
      "source": [
        "**8.** Gere uma matriz $10\\times10$ de números aleatórios com distribuição normal de média 0 e desvio padrão 1. Calcule o *máximo* valor em cada linha e o *mínimo* valor em cada coluna.\n",
        "\n",
        "Dica: utilize a função `np.randn`."
      ]
    },
    {
      "cell_type": "code",
      "execution_count": null,
      "metadata": {
        "colab": {
          "base_uri": "https://localhost:8080/"
        },
        "id": "q7rn64u3b4vI",
        "outputId": "36a9751e-d671-415c-fabf-f96b9bbe50f5"
      },
      "outputs": [
        {
          "output_type": "stream",
          "name": "stdout",
          "text": [
            "[[-2.64430309  1.28243046  0.39518588  1.60715002 -0.41927435  0.06242385\n",
            "  -0.89266229  2.33428499 -0.95218509 -0.79456674]\n",
            " [-0.4362049  -0.72035272 -1.49440342  0.87634198  1.71028361  0.79274186\n",
            "   0.29811883 -0.85533486 -0.7086025  -0.59732226]\n",
            " [-1.28842193  0.75385728  0.88539004  0.33531034  1.33607677  0.76421395\n",
            "   1.81651593 -0.06508958  0.44917035 -0.04978597]\n",
            " [ 1.67320315  0.84873584 -1.19526961  0.60241509 -0.09571205  0.0985125\n",
            "   0.62020485 -1.06721446  1.26146298 -0.58322968]\n",
            " [ 0.71848918  0.23616391  0.40138897 -0.97823043  0.14609471  0.34789416\n",
            "  -1.06446948 -1.40608928 -0.35915063  0.51039778]\n",
            " [-0.3849283   1.95972531  1.03056609 -1.52391559  1.29952196 -0.47331994\n",
            "  -1.63629736 -1.11880814 -0.87684969  1.3714521 ]\n",
            " [-2.02851138 -0.87769783  1.63903979  1.56220378 -0.98791568 -0.73616128\n",
            "  -0.62257331 -0.56982471  0.83493519 -0.44152384]\n",
            " [-2.9097023  -0.21435728  0.56843018  0.48435471 -0.82324634 -0.11483048\n",
            "   0.09441953 -1.0769051  -0.94905222  1.51754214]\n",
            " [-1.37089256 -1.14543267 -0.13268006  0.95394634 -0.07888045  0.03159416\n",
            "  -1.91508767  1.54170616 -0.53898752  0.3230963 ]\n",
            " [ 0.03635827  0.79933     0.64636634 -1.61252074  0.46177759  0.59639313\n",
            "   1.51489337  0.16503788  0.40878613  0.34258905]]\n"
          ]
        }
      ],
      "source": [
        "a = np.random.randn(10,10)\n",
        "print(a)"
      ]
    },
    {
      "cell_type": "markdown",
      "metadata": {
        "id": "tiRhNVVqb4vJ"
      },
      "source": [
        "**9.** Gere uma matriz $X \\in \\mathbb{R}^{5\\times5}$ de números aleatórios com distribuição normal de média 1 e desvio padrão 3, isto é, $X \\sim \\text{N}(1, 3)$. Depois gere uma matriz $Y$ de mesmo formato cujo elemento $(i,j)$ terá valor $1$ se o elemento $(i,j)$ da matriz aleatória for menor que -5 ou maior do que 7, e zero caso contrário.\n",
        "Conte o número de valores diferentes de zero nessa nova matriz.\n",
        "\n",
        "Dica: se $X \\sim \\text{N}(0, 1)$, então $(\\sigma \\cdot X + \\mu) \\sim \\text{N}(\\mu, \\sigma)$."
      ]
    },
    {
      "cell_type": "code",
      "execution_count": 7,
      "metadata": {
        "id": "QQsvHzBIb4vJ",
        "outputId": "b6de2f62-5d9b-475a-94f6-367277b01d93",
        "colab": {
          "base_uri": "https://localhost:8080/"
        }
      },
      "outputs": [
        {
          "output_type": "stream",
          "name": "stdout",
          "text": [
            "[[-1.82313147  3.01554132  0.15207897  1.33524812 -1.92641313]\n",
            " [-3.42372238  5.29217895  3.7972665   7.5015844   1.54503478]\n",
            " [ 0.60680466  1.42562928  7.19915615 -2.48671391 -2.84396552]\n",
            " [-0.17129108 -3.02337177  3.59494463 -0.56505818  1.97906837]\n",
            " [ 3.60380677  0.24375167  3.38012161  5.92584295 -3.97010427]]\n",
            "[[0. 0. 0. 0. 0.]\n",
            " [0. 0. 0. 1. 0.]\n",
            " [0. 0. 1. 0. 0.]\n",
            " [0. 0. 0. 0. 0.]\n",
            " [0. 0. 0. 0. 0.]]\n"
          ]
        }
      ],
      "source": [
        "x = np.random.normal(size=(5, 5), loc=1, scale=3)\n",
        "y = np.empty((5,5))\n",
        "for i in range(5):\n",
        "  for j in range(5):\n",
        "    y[i,j] = 1 if x[i,j] < -5 or x[i,j] > 7 else 0\n",
        "print(x)\n",
        "print(y)"
      ]
    },
    {
      "cell_type": "markdown",
      "metadata": {
        "id": "7a33UvTUb4vJ"
      },
      "source": [
        "**10.** Use as regras de *broadcast* em seu benefício para gerar uma matriz $5\\times5$ cujos elementos $(i,j)$ têm valor $i$. Faça o mesmo para gerar uma outra matriz de mesmo tamanho cujos elementos $(i,j)$ tenham valor $j$. Por fim, combine isso para gerar uma matriz também $5\\times5$ cujos elementos $(i,j)$ tenham valor $2 i - j$.\n",
        "\n",
        "Atenção: não utilizar `np.indices`.\n",
        "Dica: utilizar soma com matriz de zeros com dimensões $10\\times10$"
      ]
    },
    {
      "cell_type": "code",
      "execution_count": 30,
      "metadata": {
        "id": "SZIepJQPb4vJ",
        "outputId": "5332755e-9839-4d23-a6eb-a2c871817a2b",
        "colab": {
          "base_uri": "https://localhost:8080/"
        }
      },
      "outputs": [
        {
          "output_type": "stream",
          "name": "stdout",
          "text": [
            "[[0. 0. 0. 0. 0.]\n",
            " [1. 1. 1. 1. 1.]\n",
            " [2. 2. 2. 2. 2.]\n",
            " [3. 3. 3. 3. 3.]\n",
            " [4. 4. 4. 4. 4.]]\n",
            "[[0. 1. 2. 3. 4.]\n",
            " [0. 1. 2. 3. 4.]\n",
            " [0. 1. 2. 3. 4.]\n",
            " [0. 1. 2. 3. 4.]\n",
            " [0. 1. 2. 3. 4.]]\n",
            "[[ 0. -1. -2. -3. -4.]\n",
            " [ 2.  1.  0. -1. -2.]\n",
            " [ 4.  3.  2.  1.  0.]\n",
            " [ 6.  5.  4.  3.  2.]\n",
            " [ 8.  7.  6.  5.  4.]]\n"
          ]
        }
      ],
      "source": [
        "zero = np.zeros((5,5))\n",
        "\n",
        "x = np.arange(5).reshape(5, 1)\n",
        "x = zero[:5, :5] + x\n",
        "y = np.arange(5)\n",
        "y = zero[:5, :5] + y\n",
        "z = 2*x - y\n",
        "\n",
        "print(x)\n",
        "print(y)\n",
        "print(z)"
      ]
    },
    {
      "cell_type": "markdown",
      "metadata": {
        "id": "nimvpPAWb4vJ"
      },
      "source": [
        "**11.** Considere a matriz\n",
        "\n",
        "$\n",
        "X = \\begin{bmatrix}\n",
        "  9 & 3 & 8 \\\\\n",
        "  7 & 4 & 5 \\\\\n",
        "  2 & 3 & 1 \\\\\n",
        "  2 & 10 & 9 \\\\\n",
        "  8 & 9 & 2 \\\\\n",
        "\\end{bmatrix}.\n",
        "$\n",
        "\n",
        "Calcule $X_{shifted} = X - \\mu$, onde $\\mu$ é a média das linhas de $X$. Explore a funcionalidade de broadcasting e não utilize loops.\n"
      ]
    },
    {
      "cell_type": "code",
      "execution_count": 29,
      "metadata": {
        "id": "TdpyqG7Rb4vJ",
        "outputId": "96cad6fb-c7a6-48f2-e63b-10eabce7cfa5",
        "colab": {
          "base_uri": "https://localhost:8080/"
        }
      },
      "outputs": [
        {
          "output_type": "stream",
          "name": "stdout",
          "text": [
            "Your function is correct.\n"
          ]
        }
      ],
      "source": [
        "X = np.array([[9, 3, 8], [7, 4, 5], [2, 3, 1], [2, 10, 9], [8, 9, 2]])\n",
        "X_shifted = np.zeros(X.shape[1])  # change X_shifted bellow\n",
        "\n",
        "med = np.mean(X, axis=0, keepdims=True)\n",
        "X_shifted = X - med\n",
        "\n",
        "ans = np.array([[3.4, -2.8, 3.0], [1.4, -1.8, 0.0], [-3.6, -2.8, -4.0], [-3.6, 4.2, 4.0], [2.4, 3.2, -3.0]])\n",
        "are_equal = np.allclose(X_shifted, ans, atol=1e-5)\n",
        "if are_equal:\n",
        "    print(\"Your function is correct.\")\n",
        "else:\n",
        "    print(\"Your function is not correct.\")"
      ]
    },
    {
      "cell_type": "markdown",
      "metadata": {
        "id": "FneJ-l38b4vK"
      },
      "source": [
        "**12.** A distância euclidiana entre dois vetores $u$ e $v$ de tamanho $n$ é dada por $\\left\\|u - v\\right\\|_2 = \\sqrt{\\sum_{i=1}^{n}(u_i - v_i)^2}.$\n",
        "\n",
        "Dado os vetores (1-D arrays) a seguir, complete a função `euclidean_distance` para cálculo da distância. Não utilize loops, nem a função `np.linalg.norm`."
      ]
    },
    {
      "cell_type": "code",
      "execution_count": 32,
      "metadata": {
        "id": "0YgWVnw0b4vK",
        "outputId": "6fdab720-70bb-4fd7-84dc-cc853a808dd9",
        "colab": {
          "base_uri": "https://localhost:8080/"
        }
      },
      "outputs": [
        {
          "output_type": "stream",
          "name": "stdout",
          "text": [
            "Your function is correct.\n"
          ]
        }
      ],
      "source": [
        "def euclidean_distance(u, v):\n",
        "    distances = 0\n",
        "    distances = np.sqrt(np.sum((u-v)**2))\n",
        "    return distances\n",
        "\n",
        "\n",
        "array1 = np.array([1, 2, 3])\n",
        "array2 = np.array([4, 5, 6])\n",
        "\n",
        "distances = euclidean_distance(array1, array2)\n",
        "are_equal = np.allclose(distances, np.linalg.norm(array1 - array2), atol=1e-5)\n",
        "if are_equal:\n",
        "    print(\"Your function is correct.\")\n",
        "else:\n",
        "    print(\"Your function is not correct.\")"
      ]
    },
    {
      "cell_type": "markdown",
      "metadata": {
        "id": "-XmK7NdBb4vK"
      },
      "source": [
        "**13.** Considere duas matrizes $X$ e $Y$, onde cada linha representa um vetor. Você foi solicitado a calcular a distância euclidiana entre as linhas de $X$ e as linhas correspondentes de $Y$. Escreva uma função que recebe as matrizes $X$ e $Y$ como entrada e retorna uma matriz $D$ onde cada elemento $(i,j)$ representa a distância euclidiana entre a linha $i$ de $X$ ($X_i$) e a linha $j$ de $Y$ ($Y_j$). O cálculo deve ser feito por meio de dois loops, conforme a equação\n",
        "\n",
        "$D_{ij} = \\left \\|X_i - Y_j \\right \\|_2$"
      ]
    },
    {
      "cell_type": "code",
      "execution_count": 39,
      "metadata": {
        "id": "mJKgGrJjb4vK",
        "outputId": "be85d1a2-56f6-45ff-d343-2ba3ad846030",
        "colab": {
          "base_uri": "https://localhost:8080/"
        }
      },
      "outputs": [
        {
          "output_type": "stream",
          "name": "stdout",
          "text": [
            "[[25.98076211 31.17691454]\n",
            " [20.78460969 25.98076211]\n",
            " [15.58845727 20.78460969]\n",
            " [10.39230485 15.58845727]\n",
            " [ 5.19615242 10.39230485]]\n",
            "Your function is correct.\n"
          ]
        }
      ],
      "source": [
        "from scipy.spatial.distance import cdist\n",
        "\n",
        "\n",
        "def calculate_distances_two_loops(X, Y):\n",
        "    distances = np.zeros((X.shape[0], Y.shape[0]))\n",
        "    for i in range(X.shape[0]):\n",
        "        for j in range(Y.shape[0]):\n",
        "            distances[i, j] = np.sqrt(np.sum((X[i]-Y[j])**2))\n",
        "    return distances\n",
        "\n",
        "\n",
        "X = np.array([[1, 2, 3], [4, 5, 6], [7, 8, 9], [10, 11, 12], [13, 14, 15]])\n",
        "Y = np.array([[16, 17, 18], [19, 20, 21]])\n",
        "\n",
        "distances = calculate_distances_two_loops(X, Y)\n",
        "are_equal = np.allclose(distances, cdist(X, Y), atol=1e-5)\n",
        "if are_equal:\n",
        "    print(\"Your function is correct.\")\n",
        "else:\n",
        "    print(\"Your function is not correct.\")"
      ]
    },
    {
      "cell_type": "markdown",
      "metadata": {
        "id": "WfoIKQl2b4vK"
      },
      "source": [
        "**14.** O mesmo da questão anterior, mas agora utilizando um loop e broadcasting.\n",
        "\n",
        "Dica: verifique se o resultado de `X[i] - Y` pode lhe ser útil na solução do exercício."
      ]
    },
    {
      "cell_type": "code",
      "execution_count": 31,
      "metadata": {
        "id": "OQ0_CjSRb4vK",
        "outputId": "c01a1b55-994c-410d-8492-94d872044ccd",
        "colab": {
          "base_uri": "https://localhost:8080/"
        }
      },
      "outputs": [
        {
          "output_type": "stream",
          "name": "stdout",
          "text": [
            "[[ -9  -9  -9]\n",
            " [-12 -12 -12]]\n"
          ]
        }
      ],
      "source": [
        "# Create two 1D numpy array\n",
        "X = np.array([[1, 2, 3], [4, 5, 6], [7, 8, 9], [10, 11, 12], [13, 14, 15]])\n",
        "Y = np.array([[16, 17, 18], [19, 20, 21]])\n",
        "\n",
        "i = 2\n",
        "print(X[i] - Y)"
      ]
    },
    {
      "cell_type": "code",
      "execution_count": 41,
      "metadata": {
        "id": "tqIlypotb4vK",
        "outputId": "2488e070-6628-48b7-8fa3-87ceac285ef9",
        "colab": {
          "base_uri": "https://localhost:8080/"
        }
      },
      "outputs": [
        {
          "output_type": "stream",
          "name": "stdout",
          "text": [
            "[[25.98076211 31.17691454]\n",
            " [20.78460969 25.98076211]\n",
            " [15.58845727 20.78460969]\n",
            " [10.39230485 15.58845727]\n",
            " [ 5.19615242 10.39230485]]\n",
            "Your function is correct.\n"
          ]
        }
      ],
      "source": [
        "def calculate_distances_one_loop(X, Y):\n",
        "    distances = np.zeros((X.shape[0], Y.shape[0]))\n",
        "    for i in range(X.shape[0]):\n",
        "      distances[i] = np.sqrt(np.sum((X[i]-Y)**2, axis=1))\n",
        "    print(distances)\n",
        "    return distances\n",
        "\n",
        "\n",
        "distances = calculate_distances_one_loop(X, Y)\n",
        "are_equal = np.allclose(distances, cdist(X, Y), atol=1e-5)\n",
        "if are_equal:\n",
        "    print(\"Your function is correct.\")\n",
        "else:\n",
        "    print(\"Your function is not correct.\")"
      ]
    },
    {
      "cell_type": "markdown",
      "metadata": {
        "id": "Y-rfr6ywb4vL"
      },
      "source": [
        "**15.** O mesmo da questão anterior, mas agora - você que é um mago do broadcasting - não pode utilizar loops.\n",
        "\n",
        "Dica: verifique se o resultado de `X[:, np.newaxis, :] - Y` pode lhe ser útil na solução do exercício."
      ]
    },
    {
      "cell_type": "code",
      "execution_count": null,
      "metadata": {
        "id": "S2B4K_lLb4vL",
        "outputId": "11198f77-a462-4b13-9f8b-d37dc8144b18"
      },
      "outputs": [
        {
          "name": "stdout",
          "output_type": "stream",
          "text": [
            "[[[-15 -15 -15]\n",
            "  [-18 -18 -18]]\n",
            "\n",
            " [[-12 -12 -12]\n",
            "  [-15 -15 -15]]\n",
            "\n",
            " [[ -9  -9  -9]\n",
            "  [-12 -12 -12]]\n",
            "\n",
            " [[ -6  -6  -6]\n",
            "  [ -9  -9  -9]]\n",
            "\n",
            " [[ -3  -3  -3]\n",
            "  [ -6  -6  -6]]]\n"
          ]
        }
      ],
      "source": [
        "# Create two 1D numpy array\n",
        "X = np.array([[1, 2, 3], [4, 5, 6], [7, 8, 9], [10, 11, 12], [13, 14, 15]])\n",
        "Y = np.array([[16, 17, 18], [19, 20, 21]])\n",
        "\n",
        "print(X[:, np.newaxis, :] - Y)"
      ]
    },
    {
      "cell_type": "code",
      "execution_count": 42,
      "metadata": {
        "id": "DK7_TCbqb4vL",
        "outputId": "b28b31e9-7b62-4108-ffd3-8b028e90922c",
        "colab": {
          "base_uri": "https://localhost:8080/"
        }
      },
      "outputs": [
        {
          "output_type": "stream",
          "name": "stdout",
          "text": [
            "[[25.98076211 31.17691454]\n",
            " [20.78460969 25.98076211]\n",
            " [15.58845727 20.78460969]\n",
            " [10.39230485 15.58845727]\n",
            " [ 5.19615242 10.39230485]]\n",
            "Your function is correct.\n"
          ]
        }
      ],
      "source": [
        "def calculate_distances_vectorized(X, Y):\n",
        "    distances = np.zeros((X.shape[0], Y.shape[0]))\n",
        "    distances[:, np.newaxis, :] = np.sqrt(np.sum((X-Y)**2))\n",
        "    return distances\n",
        "\n",
        "\n",
        "distances = calculate_distances_one_loop(X, Y)\n",
        "are_equal = np.allclose(distances, cdist(X, Y), atol=1e-5)\n",
        "if are_equal:\n",
        "    print(\"Your function is correct.\")\n",
        "else:\n",
        "    print(\"Your function is not correct.\")"
      ]
    }
  ],
  "metadata": {
    "kernelspec": {
      "display_name": "Python 3",
      "language": "python",
      "name": "python3"
    },
    "language_info": {
      "codemirror_mode": {
        "name": "ipython",
        "version": 3
      },
      "file_extension": ".py",
      "mimetype": "text/x-python",
      "name": "python",
      "nbconvert_exporter": "python",
      "pygments_lexer": "ipython3",
      "version": "3.8.10"
    },
    "colab": {
      "provenance": [],
      "include_colab_link": true
    }
  },
  "nbformat": 4,
  "nbformat_minor": 0
}